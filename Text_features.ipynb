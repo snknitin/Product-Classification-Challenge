{
 "cells": [
  {
   "cell_type": "markdown",
   "metadata": {},
   "source": [
    "#  Extracting text features"
   ]
  },
  {
   "cell_type": "code",
   "execution_count": 3,
   "metadata": {
    "collapsed": true
   },
   "outputs": [],
   "source": [
    "# Imports\n",
    "import os\n",
    "# Suppress warnings from pandas\n",
    "import warnings\n",
    "warnings.filterwarnings('ignore')\n",
    "\n",
    "import pandas as pd\n",
    "import numpy as np\n",
    "import json\n",
    "\n",
    "# matplotlib and seaborn for plotting\n",
    "import matplotlib\n",
    "import matplotlib.pyplot as plt\n",
    "from matplotlib import gridspec\n",
    "import seaborn as sns\n",
    "%matplotlib inline  \n",
    "# Suppress warnings from pandas\n",
    "import warnings\n",
    "warnings.filterwarnings('ignore')\n",
    "\n",
    "plt.style.use('fivethirtyeight')"
   ]
  },
  {
   "cell_type": "code",
   "execution_count": 6,
   "metadata": {
    "collapsed": true
   },
   "outputs": [],
   "source": [
    "from sklearn.feature_extraction.text import TfidfVectorizer, CountVectorizer\n",
    "from sklearn.decomposition import NMF, LatentDirichletAllocation"
   ]
  },
  {
   "cell_type": "code",
   "execution_count": 4,
   "metadata": {
    "collapsed": true
   },
   "outputs": [],
   "source": [
    "def walk_up_folder(path, depth=1):\n",
    "    \"\"\"\n",
    "    Helper method to navigate the file system and get to the file location\n",
    "    \"\"\"\n",
    "    _cur_depth = 1        \n",
    "    while _cur_depth < depth:\n",
    "        path = os.path.dirname(path)\n",
    "        _cur_depth += 1\n",
    "    return path"
   ]
  },
  {
   "cell_type": "code",
   "execution_count": 5,
   "metadata": {
    "collapsed": true
   },
   "outputs": [],
   "source": [
    "data_path = os.path.join(walk_up_folder(os.getcwd(), depth=1),'Data/product_desc_only.json')\n",
    "categories_path = os.path.join(walk_up_folder(os.getcwd(), depth=1),'Data/product_categories.txt')"
   ]
  },
  {
   "cell_type": "code",
   "execution_count": null,
   "metadata": {
    "collapsed": true
   },
   "outputs": [],
   "source": [
    "def preprocess(datapath,filepath):\n",
    "    \"\"\"\n",
    "     Remove unwanted information and clean the files for use\n",
    "    :param datapath: Reads files from data location\n",
    "    :param filepath: Writes processed output files into a different location\n",
    "    :return:\n",
    "    \"\"\"\n",
    "    print(\"Processing the raw files\")\n",
    "    files = os.listdir(datapath)\n",
    "    for file in files:\n",
    "        with open(os.path.join(filepath, file), 'w',encoding=\"utf-8\") as target:\n",
    "            with open(os.path.join(datapath, file), 'r',encoding=\"utf-8\") as doc:\n",
    "                content = doc.read().split('\\n')\n",
    "                for line in content:\n",
    "                    target.write(line.split('\\t')[-1].lower())\n",
    "        target.close()\n",
    "\n",
    "def loadDocument(filepath):\n",
    "    \"\"\"\n",
    "    Load the cleaned data into a list for vectorizers\n",
    "    :param filepath: Read all files in this location\n",
    "    :return: Return a list of all the documents' contents\n",
    "    \"\"\"\n",
    "    documents=[]\n",
    "    print(\"Loading document object from processed files\")\n",
    "    files = os.listdir(filepath)\n",
    "    for file in files:\n",
    "        with open(os.path.join(filepath, file), 'r', encoding=\"utf-8\") as doc:\n",
    "            documents.append(doc.read())\n",
    "    return documents"
   ]
  }
 ],
 "metadata": {
  "kernelspec": {
   "display_name": "Python 3",
   "language": "python",
   "name": "python3"
  },
  "language_info": {
   "codemirror_mode": {
    "name": "ipython",
    "version": 3
   },
   "file_extension": ".py",
   "mimetype": "text/x-python",
   "name": "python",
   "nbconvert_exporter": "python",
   "pygments_lexer": "ipython3",
   "version": "3.5.4"
  }
 },
 "nbformat": 4,
 "nbformat_minor": 2
}
