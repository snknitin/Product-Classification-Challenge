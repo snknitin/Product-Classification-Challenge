{
 "cells": [
  {
   "cell_type": "markdown",
   "metadata": {},
   "source": [
    "# Extracting Image features"
   ]
  },
  {
   "cell_type": "code",
   "execution_count": 2,
   "metadata": {
    "collapsed": true,
    "scrolled": true
   },
   "outputs": [],
   "source": [
    "# Imports\n",
    "import os\n",
    "# Suppress warnings from pandas\n",
    "import warnings\n",
    "warnings.filterwarnings('ignore')\n",
    "\n",
    "import pandas as pd\n",
    "import numpy as np\n",
    "import json\n",
    "\n",
    "# matplotlib and seaborn for plotting\n",
    "import matplotlib\n",
    "import matplotlib.pyplot as plt\n",
    "from matplotlib import gridspec\n",
    "import seaborn as sns\n",
    "%matplotlib inline  \n",
    "# Suppress warnings from pandas\n",
    "import warnings\n",
    "warnings.filterwarnings('ignore')\n",
    "\n",
    "plt.style.use('fivethirtyeight')"
   ]
  },
  {
   "cell_type": "code",
   "execution_count": 4,
   "metadata": {
    "collapsed": true,
    "scrolled": true
   },
   "outputs": [],
   "source": [
    "def walk_up_folder(path, depth=1):\n",
    "    \"\"\"\n",
    "    Helper method to navigate the file system and get to the file location\n",
    "    \"\"\"\n",
    "    _cur_depth = 1        \n",
    "    while _cur_depth < depth:\n",
    "        path = os.path.dirname(path)\n",
    "        _cur_depth += 1\n",
    "    return path"
   ]
  },
  {
   "cell_type": "code",
   "execution_count": 11,
   "metadata": {
    "collapsed": true,
    "scrolled": true
   },
   "outputs": [],
   "source": [
    "data_path = os.path.join(walk_up_folder(os.getcwd(), depth=1),'Data/product_data.json')\n",
    "\n",
    "with open(data_path, encoding='utf-8') as data_file:\n",
    "    data = json.loads(data_file.read())"
   ]
  },
  {
   "cell_type": "code",
   "execution_count": 14,
   "metadata": {
    "collapsed": true,
    "scrolled": true
   },
   "outputs": [],
   "source": [
    "def blank_image():\n",
    "    \"\"\"\n",
    "    Loads a blank image indicating missing file\n",
    "    \"\"\"\n",
    "    return Image.fromarray(np.zeros((200,200,3), dtype=\"uint8\"), 'RGB')"
   ]
  },
  {
   "cell_type": "code",
   "execution_count": 105,
   "metadata": {
    "scrolled": true
   },
   "outputs": [],
   "source": [
    "import PIL\n",
    "from PIL import Image\n",
    "import requests\n",
    "from io import BytesIO\n",
    "import urllib.request\n",
    "from keras.preprocessing.image import ImageDataGenerator, array_to_img, img_to_array, load_img\n",
    "from keras.models import Sequential\n",
    "from keras.layers import Conv2D, MaxPooling2D\n",
    "from keras.layers import Activation, Dropout, Flatten, Dense"
   ]
  },
  {
   "cell_type": "code",
   "execution_count": 8,
   "metadata": {
    "collapsed": true,
    "scrolled": true
   },
   "outputs": [],
   "source": [
    "from keras.preprocessing.image import ImageDataGenerator\n",
    "\n",
    "datagen = ImageDataGenerator(\n",
    "        rotation_range=40,\n",
    "        width_shift_range=0.2,\n",
    "        height_shift_range=0.2,\n",
    "        rescale=1./255,\n",
    "        shear_range=0.2,\n",
    "        zoom_range=0.2,\n",
    "        horizontal_flip=True,\n",
    "        fill_mode='nearest')"
   ]
  },
  {
   "cell_type": "code",
   "execution_count": 112,
   "metadata": {
    "scrolled": true
   },
   "outputs": [],
   "source": [
    "images=[]\n",
    "for i in range(len(data)):\n",
    "    url=data[i]['images_url']\n",
    "    if url.startswith(\"//\"):\n",
    "        url =\"https://\"+url[2:]\n",
    "    try:\n",
    "        response = requests.get(url)\n",
    "        img = Image.open(BytesIO(response.content))\n",
    "        # Making sure all images are of the same dimensions\n",
    "        if img.size!=(200,200):\n",
    "            img=img.resize((200, 200), PIL.Image.ANTIALIAS)\n",
    "        images.append(img)\n",
    "    except:\n",
    "        images.append(blank_image())\n",
    "        continue"
   ]
  },
  {
   "cell_type": "code",
   "execution_count": 55,
   "metadata": {
    "scrolled": true
   },
   "outputs": [
    {
     "data": {
      "image/png": "[encoded data removed]",
      "text/plain": [
       "<PIL.Image.Image image mode=RGB size=200x200 at 0x7F8FE6D1BBE0>"
      ]
     },
     "execution_count": 55,
     "metadata": {},
     "output_type": "execute_result"
    }
   ],
   "source": [
    "images[287]"
   ]
  },
  {
   "cell_type": "code",
   "execution_count": 56,
   "metadata": {
    "scrolled": true
   },
   "outputs": [
    {
     "data": {
      "text/plain": [
       "(200, 200, 3)"
      ]
     },
     "execution_count": 56,
     "metadata": {},
     "output_type": "execute_result"
    }
   ],
   "source": [
    "img_to_array(images[287]).shape"
   ]
  },
  {
   "cell_type": "code",
   "execution_count": 59,
   "metadata": {
    "scrolled": true
   },
   "outputs": [
    {
     "data": {
      "text/plain": [
       "array([[[[ 247.,  247.,  247., ...,  249.,  249.,  249.],\n",
       "         [ 249.,  249.,  249., ...,   47.,   32.,   85.],\n",
       "         [  49.,   37.,   84., ...,  249.,  249.,  249.],\n",
       "         ..., \n",
       "         [   0.,    0.,   61., ...,  251.,  251.,  251.],\n",
       "         [ 250.,  250.,  250., ...,  251.,  251.,  251.],\n",
       "         [ 251.,  251.,  251., ...,  150.,  132.,   54.]],\n",
       "\n",
       "        [[   8.,    0.,  117., ...,  251.,  251.,  251.],\n",
       "         [ 250.,  250.,  250., ...,  251.,  251.,  251.],\n",
       "         [ 251.,  251.,  251., ...,  155.,  137.,   44.],\n",
       "         ..., \n",
       "         [ 183.,  234.,  197., ...,  226.,  217.,  233.],\n",
       "         [ 215.,  205.,  228., ...,  251.,  251.,  251.],\n",
       "         [ 250.,  250.,  250., ...,  178.,  229.,  192.]],\n",
       "\n",
       "        [[ 184.,  234.,  197., ...,  228.,  220.,  230.],\n",
       "         [ 212.,  202.,  227., ...,  251.,  251.,  251.],\n",
       "         [ 250.,  250.,  250., ...,  178.,  228.,  191.],\n",
       "         ..., \n",
       "         [ 248.,  248.,  248., ...,  250.,  255.,  255.],\n",
       "         [ 251.,  255.,  252., ...,  193.,  184.,  226.],\n",
       "         [ 192.,  183.,  227., ...,  248.,  248.,  248.]]]], dtype=float32)"
      ]
     },
     "execution_count": 59,
     "metadata": {},
     "output_type": "execute_result"
    }
   ],
   "source": [
    "img_to_array(images[0]).reshape(-1).reshape(1,3,200,200)"
   ]
  },
  {
   "cell_type": "code",
   "execution_count": 89,
   "metadata": {
    "collapsed": true,
    "scrolled": true
   },
   "outputs": [],
   "source": [
    "dataset = np.ndarray(shape=(1000, 3, 200, 200),dtype=np.float32)"
   ]
  },
  {
   "cell_type": "code",
   "execution_count": 117,
   "metadata": {
    "scrolled": true
   },
   "outputs": [
    {
     "name": "stdout",
     "output_type": "stream",
     "text": [
      "(200, 200)\n"
     ]
    }
   ],
   "source": [
    "print(images[300].size)"
   ]
  },
  {
   "cell_type": "code",
   "execution_count": 125,
   "metadata": {
    "scrolled": true
   },
   "outputs": [
    {
     "data": {
      "text/plain": [
       "(200, 200, 3)"
      ]
     },
     "execution_count": 125,
     "metadata": {},
     "output_type": "execute_result"
    }
   ],
   "source": [
    "import cv2\n",
    "cv2.cvtColor(img_to_array(images[330]), cv2.COLOR_BGRA2BGR).shape"
   ]
  },
  {
   "cell_type": "code",
   "execution_count": 107,
   "metadata": {
    "scrolled": true
   },
   "outputs": [
    {
     "data": {
      "text/plain": [
       "(200, 200)"
      ]
     },
     "execution_count": 107,
     "metadata": {},
     "output_type": "execute_result"
    }
   ],
   "source": [
    "images[19].resize((200, 200), PIL.Image.ANTIALIAS).size"
   ]
  },
  {
   "cell_type": "code",
   "execution_count": null,
   "metadata": {
    "scrolled": true
   },
   "outputs": [
    {
     "name": "stdout",
     "output_type": "stream",
     "text": [
      "0 (200, 200, 3)\n",
      "1 (200, 200, 3)\n",
      "2 (200, 200, 3)\n",
      "3 (200, 200, 3)\n",
      "4 (200, 200, 3)\n",
      "5 (200, 200, 3)\n",
      "6 (200, 200, 3)\n",
      "7 (200, 200, 3)\n",
      "8 (200, 200, 3)\n",
      "9 (200, 200, 3)\n",
      "10 (200, 200, 3)\n",
      "11 (200, 200, 3)\n",
      "12 (200, 200, 3)\n",
      "13 (200, 200, 3)\n",
      "14 (200, 200, 3)\n",
      "15 (200, 200, 3)\n",
      "16 (200, 200, 3)\n",
      "17 (200, 200, 3)\n",
      "18 (200, 200, 3)\n",
      "19 (200, 200, 3)\n",
      "20 (200, 200, 3)\n",
      "21 (200, 200, 3)\n",
      "22 (200, 200, 3)\n",
      "23 (200, 200, 3)\n",
      "24 (200, 200, 3)\n",
      "25 (200, 200, 3)\n",
      "26 (200, 200, 3)\n",
      "27 (200, 200, 3)\n",
      "28 (200, 200, 3)\n",
      "29 (200, 200, 3)\n",
      "30 (200, 200, 3)\n",
      "31 (200, 200, 3)\n",
      "32 (200, 200, 3)\n",
      "33 (200, 200, 3)\n",
      "34 (200, 200, 3)\n",
      "35 (200, 200, 3)\n",
      "36 (200, 200, 3)\n",
      "37 (200, 200, 3)\n",
      "38 (200, 200, 3)\n",
      "39 (200, 200, 3)\n",
      "40 (200, 200, 3)\n",
      "41 (200, 200, 3)\n",
      "42 (200, 200, 3)\n",
      "43 (200, 200, 3)\n",
      "44 (200, 200, 3)\n",
      "45 (200, 200, 3)\n",
      "46 (200, 200, 3)\n",
      "47 (200, 200, 3)\n",
      "48 (200, 200, 3)\n",
      "49 (200, 200, 3)\n",
      "50 (200, 200, 3)\n",
      "51 (200, 200, 3)\n",
      "52 (200, 200, 3)\n",
      "53 (200, 200, 3)\n",
      "54 (200, 200, 3)\n",
      "55 (200, 200, 3)\n",
      "56 (200, 200, 3)\n",
      "57 (200, 200, 3)\n",
      "58 (200, 200, 3)\n",
      "59 (200, 200, 3)\n",
      "60 (200, 200, 3)\n",
      "61 (200, 200, 3)\n",
      "62 (200, 200, 3)\n",
      "63 (200, 200, 3)\n",
      "64 (200, 200, 3)\n",
      "65 (200, 200, 3)\n",
      "66 (200, 200, 3)\n",
      "67 (200, 200, 3)\n",
      "68 (200, 200, 3)\n",
      "69 (200, 200, 3)\n",
      "70 (200, 200, 3)\n"
     ]
    }
   ],
   "source": [
    "\n",
    "for i in range(len(data)):\n",
    "    url=data[i]['images_url']\n",
    "    if url.startswith(\"//\"):\n",
    "        url =\"https://\"+url[2:]\n",
    "    try:\n",
    "        response = requests.get(url)\n",
    "        img = Image.open(BytesIO(response.content))\n",
    "        # Making sure all images are of the same dimensions\n",
    "        if img.size!=(200,200):\n",
    "            img=img.resize((200, 200), PIL.Image.ANTIALIAS)\n",
    "        x = img_to_array(img)\n",
    "        # In case of grayScale images the len(img.shape) == 2\n",
    "        if len(x.shape) > 2 and x.shape[2] == 4:\n",
    "            #convert the image from RGBA2RGB\n",
    "            img = cv2.cvtColor(img, cv2.COLOR_BGRA2BGR)\n",
    "            x = img_to_array(img)   \n",
    "    except:\n",
    "        x=img_to_array(blank_image())\n",
    "        pass\n",
    "    x=img_to_array(images[i])\n",
    "    x = (x - 128.0) / 128.0\n",
    "    print(i,x.shape)\n",
    "    dataset[i] = np.rollaxis(x, axis=2, start=0)   # this is a Numpy array with shape (3, 200, 200)"
   ]
  },
  {
   "cell_type": "code",
   "execution_count": 68,
   "metadata": {
    "scrolled": true
   },
   "outputs": [
    {
     "data": {
      "text/plain": [
       "list"
      ]
     },
     "execution_count": 68,
     "metadata": {},
     "output_type": "execute_result"
    }
   ],
   "source": [
    "type(x)"
   ]
  },
  {
   "cell_type": "code",
   "execution_count": 6,
   "metadata": {
    "collapsed": true,
    "scrolled": true
   },
   "outputs": [],
   "source": [
    "def get_base_model():\n",
    "    \"\"\"\n",
    "    Returns the convolutional part of VGG net as a keras model \n",
    "    All layers have trainable set to False\n",
    "    \"\"\"\n",
    "    img_width, img_height = 200, 200\n",
    "\n",
    "    # build the VGG16 network\n",
    "    model = Sequential()\n",
    "    model.add(ZeroPadding2D((1, 1), input_shape=(3, img_width, img_height), name='image_input'))\n",
    "\n",
    "    model.add(Convolution2D(64, 3, 3, activation='relu', name='conv1_1'))\n",
    "    model.add(ZeroPadding2D((1, 1)))\n",
    "    model.add(Convolution2D(64, 3, 3, activation='relu', name='conv1_2'))\n",
    "    model.add(MaxPooling2D((2, 2), strides=(2, 2)))\n",
    "\n",
    "    model.add(ZeroPadding2D((1, 1)))\n",
    "    model.add(Convolution2D(128, 3, 3, activation='relu', name='conv2_1'))\n",
    "    model.add(ZeroPadding2D((1, 1)))\n",
    "    model.add(Convolution2D(128, 3, 3, activation='relu', name='conv2_2'))\n",
    "    model.add(MaxPooling2D((2, 2), strides=(2, 2)))\n",
    "\n",
    "    model.add(ZeroPadding2D((1, 1)))\n",
    "    model.add(Convolution2D(256, 3, 3, activation='relu', name='conv3_1'))\n",
    "    model.add(ZeroPadding2D((1, 1)))\n",
    "    model.add(Convolution2D(256, 3, 3, activation='relu', name='conv3_2'))\n",
    "    model.add(ZeroPadding2D((1, 1)))\n",
    "    model.add(Convolution2D(256, 3, 3, activation='relu', name='conv3_3'))\n",
    "    model.add(MaxPooling2D((2, 2), strides=(2, 2)))\n",
    "\n",
    "    model.add(ZeroPadding2D((1, 1)))\n",
    "    model.add(Convolution2D(512, 3, 3, activation='relu', name='conv4_1'))\n",
    "    model.add(ZeroPadding2D((1, 1)))\n",
    "    model.add(Convolution2D(512, 3, 3, activation='relu', name='conv4_2'))\n",
    "    model.add(ZeroPadding2D((1, 1)))\n",
    "    model.add(Convolution2D(512, 3, 3, activation='relu', name='conv4_3'))\n",
    "    model.add(MaxPooling2D((2, 2), strides=(2, 2)))\n",
    "\n",
    "    model.add(ZeroPadding2D((1, 1)))\n",
    "    model.add(Convolution2D(512, 3, 3, activation='relu', name='conv5_1'))\n",
    "    model.add(ZeroPadding2D((1, 1)))\n",
    "    model.add(Convolution2D(512, 3, 3, activation='relu', name='conv5_2'))\n",
    "    model.add(ZeroPadding2D((1, 1)))\n",
    "    model.add(Convolution2D(512, 3, 3, activation='relu', name='conv5_3'))\n",
    "    model.add(MaxPooling2D((2, 2), strides=(2, 2)))\n",
    "\n",
    "    # set trainable to false in all layers \n",
    "    for layer in model.layers:\n",
    "        if hasattr(layer, 'trainable'):\n",
    "            layer.trainable = False\n",
    "\n",
    "    return model\n",
    "\n",
    "def load_weights_in_base_model(model):\n",
    "    \"\"\"\n",
    "    The function takes the VGG convolutian part and loads\n",
    "    the weights from the pre-trained model and then returns the model\n",
    "    \"\"\"\n",
    "    weight_file = ''.join((WEIGHTS_PATH, 'vgg16_weights.h5'))\n",
    "    f = h5py.File(weight_file)\n",
    "    for k in range(f.attrs['nb_layers']):\n",
    "        if k >= len(model.layers):\n",
    "            # we don't look at the last (fully-connected) layers in the savefile\n",
    "            break\n",
    "        g = f['layer_{}'.format(k)]\n",
    "        weights = [g['param_{}'.format(p)] for p in range(g.attrs['nb_params'])]\n",
    "        model.layers[k].set_weights(weights)\n",
    "    f.close()\n",
    "    return model\n"
   ]
  }
 ],
 "metadata": {
  "kernelspec": {
   "display_name": "Python 3",
   "language": "python",
   "name": "python3"
  },
  "language_info": {
   "codemirror_mode": {
    "name": "ipython",
    "version": 3
   },
   "file_extension": ".py",
   "mimetype": "text/x-python",
   "name": "python",
   "nbconvert_exporter": "python",
   "pygments_lexer": "ipython3",
   "version": "3.5.4"
  }
 },
 "nbformat": 4,
 "nbformat_minor": 2
}
